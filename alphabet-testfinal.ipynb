{
 "cells": [
  {
   "cell_type": "code",
   "execution_count": 1,
   "metadata": {
    "_cell_guid": "b1076dfc-b9ad-4769-8c92-a6c4dae69d19",
    "_uuid": "8f2839f25d086af736a60e9eeb907d3b93b6e0e5",
    "execution": {
     "iopub.execute_input": "2020-08-16T00:25:09.027886Z",
     "iopub.status.busy": "2020-08-16T00:25:09.026855Z",
     "iopub.status.idle": "2020-08-16T00:25:09.047822Z",
     "shell.execute_reply": "2020-08-16T00:25:09.047074Z"
    },
    "papermill": {
     "duration": 0.050977,
     "end_time": "2020-08-16T00:25:09.048010",
     "exception": false,
     "start_time": "2020-08-16T00:25:08.997033",
     "status": "completed"
    },
    "tags": []
   },
   "outputs": [
    {
     "name": "stdout",
     "output_type": "stream",
     "text": [
      "/kaggle/input/third-one/practice.csv\n",
      "/kaggle/input/csv-test/practice.csv\n",
      "/kaggle/input/smalltest/practice.csv\n",
      "/kaggle/input/secondtime/practice.csv\n",
      "/kaggle/input/sigmas/sigma.png\n",
      "/kaggle/input/greekalphabetpixels/practice.csv\n",
      "/kaggle/input/alpha-photo/test_image.png\n"
     ]
    }
   ],
   "source": [
    "# This Python 3 environment comes with many helpful analytics libraries installed\n",
    "# It is defined by the kaggle/python Docker image: https://github.com/kaggle/docker-python\n",
    "# For example, here's several helpful packages to load\n",
    "\n",
    "import numpy as np # linear algebra\n",
    "import pandas as pd # data processing, CSV file I/O (e.g. pd.read_csv)\n",
    "\n",
    "# Input data files are available in the read-only \"../input/\" directory\n",
    "# For example, running this (by clicking run or pressing Shift+Enter) will list all files under the input directory\n",
    "\n",
    "import os\n",
    "for dirname, _, filenames in os.walk('/kaggle/input'):\n",
    "    for filename in filenames:\n",
    "        print(os.path.join(dirname, filename))\n",
    "\n",
    "# You can write up to 5GB to the current directory (/kaggle/working/) that gets preserved as output when you create a version using \"Save & Run All\" \n",
    "# You can also write temporary files to /kaggle/temp/, but they won't be saved outside of the current session"
   ]
  },
  {
   "cell_type": "code",
   "execution_count": 2,
   "metadata": {
    "_cell_guid": "79c7e3d0-c299-4dcb-8224-4455121ee9b0",
    "_uuid": "d629ff2d2480ee46fbb7e2d37f6b5fab8052498a",
    "execution": {
     "iopub.execute_input": "2020-08-16T00:25:09.102265Z",
     "iopub.status.busy": "2020-08-16T00:25:09.101338Z",
     "iopub.status.idle": "2020-08-16T00:25:17.623969Z",
     "shell.execute_reply": "2020-08-16T00:25:17.623106Z"
    },
    "papermill": {
     "duration": 8.553182,
     "end_time": "2020-08-16T00:25:17.624114",
     "exception": false,
     "start_time": "2020-08-16T00:25:09.070932",
     "status": "completed"
    },
    "tags": []
   },
   "outputs": [],
   "source": [
    "import numpy as np\n",
    "import pandas as pd\n",
    "from sklearn.model_selection import train_test_split\n",
    "from tensorflow.python import keras\n",
    "from tensorflow.python.keras.models import Sequential\n",
    "from tensorflow.python.keras.layers import Dense, Flatten, Conv2D, Dropout\n",
    "from keras.preprocessing.image import load_img\n",
    "from keras.preprocessing.image import img_to_array\n",
    "from keras.preprocessing.image import array_to_img\n",
    "import numpy as np\n",
    "from sklearn.model_selection import train_test_split\n",
    "from tensorflow import keras\n",
    "import matplotlib.pyplot as plt\n",
    "import tensorflow as tf"
   ]
  },
  {
   "cell_type": "code",
   "execution_count": 3,
   "metadata": {
    "execution": {
     "iopub.execute_input": "2020-08-16T00:25:17.677699Z",
     "iopub.status.busy": "2020-08-16T00:25:17.676747Z",
     "iopub.status.idle": "2020-08-16T00:25:17.679603Z",
     "shell.execute_reply": "2020-08-16T00:25:17.678818Z"
    },
    "papermill": {
     "duration": 0.033424,
     "end_time": "2020-08-16T00:25:17.679741",
     "exception": false,
     "start_time": "2020-08-16T00:25:17.646317",
     "status": "completed"
    },
    "tags": []
   },
   "outputs": [],
   "source": [
    "class_names = ['beta','chi','delta','gamma','Sigma','zeta','Xi','nu','Omega','epsilon','Lambda','xi','iota','rho',\n",
    "'sigma','Delta','Gamma','pi','Phi','Upsilon','Psi','lambda','kappa','eta','psi','omega','upsilon','theta','alpha'\n",
    "           ,'tau','phi']\n"
   ]
  },
  {
   "cell_type": "code",
   "execution_count": 4,
   "metadata": {
    "execution": {
     "iopub.execute_input": "2020-08-16T00:25:17.731991Z",
     "iopub.status.busy": "2020-08-16T00:25:17.731162Z",
     "iopub.status.idle": "2020-08-16T00:25:18.387879Z",
     "shell.execute_reply": "2020-08-16T00:25:18.388515Z"
    },
    "papermill": {
     "duration": 0.686702,
     "end_time": "2020-08-16T00:25:18.388683",
     "exception": false,
     "start_time": "2020-08-16T00:25:17.701981",
     "status": "completed"
    },
    "tags": []
   },
   "outputs": [],
   "source": [
    "fashion_file = '/kaggle/input/greekalphabetpixels/practice.csv'\n",
    "df = pd.read_csv(fashion_file)"
   ]
  },
  {
   "cell_type": "code",
   "execution_count": 5,
   "metadata": {
    "execution": {
     "iopub.execute_input": "2020-08-16T00:25:18.452296Z",
     "iopub.status.busy": "2020-08-16T00:25:18.444681Z",
     "iopub.status.idle": "2020-08-16T00:25:18.478914Z",
     "shell.execute_reply": "2020-08-16T00:25:18.479525Z"
    },
    "papermill": {
     "duration": 0.06719,
     "end_time": "2020-08-16T00:25:18.479697",
     "exception": false,
     "start_time": "2020-08-16T00:25:18.412507",
     "status": "completed"
    },
    "tags": []
   },
   "outputs": [
    {
     "data": {
      "text/html": [
       "<div>\n",
       "<style scoped>\n",
       "    .dataframe tbody tr th:only-of-type {\n",
       "        vertical-align: middle;\n",
       "    }\n",
       "\n",
       "    .dataframe tbody tr th {\n",
       "        vertical-align: top;\n",
       "    }\n",
       "\n",
       "    .dataframe thead th {\n",
       "        text-align: right;\n",
       "    }\n",
       "</style>\n",
       "<table border=\"1\" class=\"dataframe\">\n",
       "  <thead>\n",
       "    <tr style=\"text-align: right;\">\n",
       "      <th></th>\n",
       "      <th>Label</th>\n",
       "      <th>0</th>\n",
       "      <th>1</th>\n",
       "      <th>2</th>\n",
       "      <th>3</th>\n",
       "      <th>4</th>\n",
       "      <th>5</th>\n",
       "      <th>6</th>\n",
       "      <th>7</th>\n",
       "      <th>8</th>\n",
       "      <th>...</th>\n",
       "      <th>3590</th>\n",
       "      <th>3591</th>\n",
       "      <th>3592</th>\n",
       "      <th>3593</th>\n",
       "      <th>3594</th>\n",
       "      <th>3595</th>\n",
       "      <th>3596</th>\n",
       "      <th>3597</th>\n",
       "      <th>3598</th>\n",
       "      <th>3599</th>\n",
       "    </tr>\n",
       "  </thead>\n",
       "  <tbody>\n",
       "    <tr>\n",
       "      <th>0</th>\n",
       "      <td>0</td>\n",
       "      <td>247</td>\n",
       "      <td>247</td>\n",
       "      <td>247</td>\n",
       "      <td>247</td>\n",
       "      <td>247</td>\n",
       "      <td>247</td>\n",
       "      <td>247</td>\n",
       "      <td>247</td>\n",
       "      <td>247</td>\n",
       "      <td>...</td>\n",
       "      <td>247</td>\n",
       "      <td>247</td>\n",
       "      <td>247</td>\n",
       "      <td>247</td>\n",
       "      <td>247</td>\n",
       "      <td>247</td>\n",
       "      <td>247</td>\n",
       "      <td>247</td>\n",
       "      <td>247</td>\n",
       "      <td>247</td>\n",
       "    </tr>\n",
       "    <tr>\n",
       "      <th>1</th>\n",
       "      <td>0</td>\n",
       "      <td>237</td>\n",
       "      <td>231</td>\n",
       "      <td>229</td>\n",
       "      <td>225</td>\n",
       "      <td>220</td>\n",
       "      <td>216</td>\n",
       "      <td>214</td>\n",
       "      <td>212</td>\n",
       "      <td>208</td>\n",
       "      <td>...</td>\n",
       "      <td>187</td>\n",
       "      <td>187</td>\n",
       "      <td>187</td>\n",
       "      <td>187</td>\n",
       "      <td>187</td>\n",
       "      <td>187</td>\n",
       "      <td>187</td>\n",
       "      <td>186</td>\n",
       "      <td>186</td>\n",
       "      <td>186</td>\n",
       "    </tr>\n",
       "    <tr>\n",
       "      <th>2</th>\n",
       "      <td>0</td>\n",
       "      <td>255</td>\n",
       "      <td>255</td>\n",
       "      <td>255</td>\n",
       "      <td>255</td>\n",
       "      <td>255</td>\n",
       "      <td>255</td>\n",
       "      <td>255</td>\n",
       "      <td>255</td>\n",
       "      <td>255</td>\n",
       "      <td>...</td>\n",
       "      <td>255</td>\n",
       "      <td>255</td>\n",
       "      <td>255</td>\n",
       "      <td>255</td>\n",
       "      <td>255</td>\n",
       "      <td>255</td>\n",
       "      <td>255</td>\n",
       "      <td>255</td>\n",
       "      <td>255</td>\n",
       "      <td>255</td>\n",
       "    </tr>\n",
       "    <tr>\n",
       "      <th>3</th>\n",
       "      <td>0</td>\n",
       "      <td>255</td>\n",
       "      <td>255</td>\n",
       "      <td>255</td>\n",
       "      <td>255</td>\n",
       "      <td>255</td>\n",
       "      <td>255</td>\n",
       "      <td>255</td>\n",
       "      <td>255</td>\n",
       "      <td>255</td>\n",
       "      <td>...</td>\n",
       "      <td>255</td>\n",
       "      <td>255</td>\n",
       "      <td>255</td>\n",
       "      <td>255</td>\n",
       "      <td>255</td>\n",
       "      <td>255</td>\n",
       "      <td>255</td>\n",
       "      <td>255</td>\n",
       "      <td>255</td>\n",
       "      <td>255</td>\n",
       "    </tr>\n",
       "    <tr>\n",
       "      <th>4</th>\n",
       "      <td>0</td>\n",
       "      <td>255</td>\n",
       "      <td>255</td>\n",
       "      <td>255</td>\n",
       "      <td>255</td>\n",
       "      <td>255</td>\n",
       "      <td>255</td>\n",
       "      <td>255</td>\n",
       "      <td>255</td>\n",
       "      <td>255</td>\n",
       "      <td>...</td>\n",
       "      <td>255</td>\n",
       "      <td>255</td>\n",
       "      <td>255</td>\n",
       "      <td>255</td>\n",
       "      <td>255</td>\n",
       "      <td>255</td>\n",
       "      <td>255</td>\n",
       "      <td>255</td>\n",
       "      <td>255</td>\n",
       "      <td>255</td>\n",
       "    </tr>\n",
       "    <tr>\n",
       "      <th>...</th>\n",
       "      <td>...</td>\n",
       "      <td>...</td>\n",
       "      <td>...</td>\n",
       "      <td>...</td>\n",
       "      <td>...</td>\n",
       "      <td>...</td>\n",
       "      <td>...</td>\n",
       "      <td>...</td>\n",
       "      <td>...</td>\n",
       "      <td>...</td>\n",
       "      <td>...</td>\n",
       "      <td>...</td>\n",
       "      <td>...</td>\n",
       "      <td>...</td>\n",
       "      <td>...</td>\n",
       "      <td>...</td>\n",
       "      <td>...</td>\n",
       "      <td>...</td>\n",
       "      <td>...</td>\n",
       "      <td>...</td>\n",
       "      <td>...</td>\n",
       "    </tr>\n",
       "    <tr>\n",
       "      <th>500</th>\n",
       "      <td>30</td>\n",
       "      <td>255</td>\n",
       "      <td>255</td>\n",
       "      <td>255</td>\n",
       "      <td>255</td>\n",
       "      <td>255</td>\n",
       "      <td>255</td>\n",
       "      <td>255</td>\n",
       "      <td>255</td>\n",
       "      <td>255</td>\n",
       "      <td>...</td>\n",
       "      <td>255</td>\n",
       "      <td>255</td>\n",
       "      <td>255</td>\n",
       "      <td>255</td>\n",
       "      <td>255</td>\n",
       "      <td>255</td>\n",
       "      <td>255</td>\n",
       "      <td>255</td>\n",
       "      <td>255</td>\n",
       "      <td>255</td>\n",
       "    </tr>\n",
       "    <tr>\n",
       "      <th>501</th>\n",
       "      <td>30</td>\n",
       "      <td>255</td>\n",
       "      <td>255</td>\n",
       "      <td>254</td>\n",
       "      <td>254</td>\n",
       "      <td>254</td>\n",
       "      <td>254</td>\n",
       "      <td>254</td>\n",
       "      <td>254</td>\n",
       "      <td>254</td>\n",
       "      <td>...</td>\n",
       "      <td>255</td>\n",
       "      <td>255</td>\n",
       "      <td>255</td>\n",
       "      <td>255</td>\n",
       "      <td>255</td>\n",
       "      <td>255</td>\n",
       "      <td>255</td>\n",
       "      <td>255</td>\n",
       "      <td>255</td>\n",
       "      <td>255</td>\n",
       "    </tr>\n",
       "    <tr>\n",
       "      <th>502</th>\n",
       "      <td>30</td>\n",
       "      <td>254</td>\n",
       "      <td>255</td>\n",
       "      <td>255</td>\n",
       "      <td>254</td>\n",
       "      <td>255</td>\n",
       "      <td>253</td>\n",
       "      <td>254</td>\n",
       "      <td>255</td>\n",
       "      <td>253</td>\n",
       "      <td>...</td>\n",
       "      <td>255</td>\n",
       "      <td>255</td>\n",
       "      <td>255</td>\n",
       "      <td>255</td>\n",
       "      <td>255</td>\n",
       "      <td>255</td>\n",
       "      <td>255</td>\n",
       "      <td>255</td>\n",
       "      <td>255</td>\n",
       "      <td>255</td>\n",
       "    </tr>\n",
       "    <tr>\n",
       "      <th>503</th>\n",
       "      <td>30</td>\n",
       "      <td>255</td>\n",
       "      <td>255</td>\n",
       "      <td>255</td>\n",
       "      <td>255</td>\n",
       "      <td>255</td>\n",
       "      <td>255</td>\n",
       "      <td>255</td>\n",
       "      <td>255</td>\n",
       "      <td>255</td>\n",
       "      <td>...</td>\n",
       "      <td>255</td>\n",
       "      <td>255</td>\n",
       "      <td>255</td>\n",
       "      <td>255</td>\n",
       "      <td>255</td>\n",
       "      <td>255</td>\n",
       "      <td>255</td>\n",
       "      <td>255</td>\n",
       "      <td>255</td>\n",
       "      <td>255</td>\n",
       "    </tr>\n",
       "    <tr>\n",
       "      <th>504</th>\n",
       "      <td>30</td>\n",
       "      <td>255</td>\n",
       "      <td>255</td>\n",
       "      <td>255</td>\n",
       "      <td>255</td>\n",
       "      <td>255</td>\n",
       "      <td>255</td>\n",
       "      <td>255</td>\n",
       "      <td>255</td>\n",
       "      <td>255</td>\n",
       "      <td>...</td>\n",
       "      <td>255</td>\n",
       "      <td>255</td>\n",
       "      <td>255</td>\n",
       "      <td>255</td>\n",
       "      <td>255</td>\n",
       "      <td>255</td>\n",
       "      <td>255</td>\n",
       "      <td>255</td>\n",
       "      <td>255</td>\n",
       "      <td>255</td>\n",
       "    </tr>\n",
       "  </tbody>\n",
       "</table>\n",
       "<p>505 rows × 3601 columns</p>\n",
       "</div>"
      ],
      "text/plain": [
       "     Label    0    1    2    3    4    5    6    7    8  ...  3590  3591  \\\n",
       "0        0  247  247  247  247  247  247  247  247  247  ...   247   247   \n",
       "1        0  237  231  229  225  220  216  214  212  208  ...   187   187   \n",
       "2        0  255  255  255  255  255  255  255  255  255  ...   255   255   \n",
       "3        0  255  255  255  255  255  255  255  255  255  ...   255   255   \n",
       "4        0  255  255  255  255  255  255  255  255  255  ...   255   255   \n",
       "..     ...  ...  ...  ...  ...  ...  ...  ...  ...  ...  ...   ...   ...   \n",
       "500     30  255  255  255  255  255  255  255  255  255  ...   255   255   \n",
       "501     30  255  255  254  254  254  254  254  254  254  ...   255   255   \n",
       "502     30  254  255  255  254  255  253  254  255  253  ...   255   255   \n",
       "503     30  255  255  255  255  255  255  255  255  255  ...   255   255   \n",
       "504     30  255  255  255  255  255  255  255  255  255  ...   255   255   \n",
       "\n",
       "     3592  3593  3594  3595  3596  3597  3598  3599  \n",
       "0     247   247   247   247   247   247   247   247  \n",
       "1     187   187   187   187   187   186   186   186  \n",
       "2     255   255   255   255   255   255   255   255  \n",
       "3     255   255   255   255   255   255   255   255  \n",
       "4     255   255   255   255   255   255   255   255  \n",
       "..    ...   ...   ...   ...   ...   ...   ...   ...  \n",
       "500   255   255   255   255   255   255   255   255  \n",
       "501   255   255   255   255   255   255   255   255  \n",
       "502   255   255   255   255   255   255   255   255  \n",
       "503   255   255   255   255   255   255   255   255  \n",
       "504   255   255   255   255   255   255   255   255  \n",
       "\n",
       "[505 rows x 3601 columns]"
      ]
     },
     "execution_count": 5,
     "metadata": {},
     "output_type": "execute_result"
    }
   ],
   "source": [
    "df"
   ]
  },
  {
   "cell_type": "code",
   "execution_count": 6,
   "metadata": {
    "execution": {
     "iopub.execute_input": "2020-08-16T00:25:18.545142Z",
     "iopub.status.busy": "2020-08-16T00:25:18.544291Z",
     "iopub.status.idle": "2020-08-16T00:25:18.559471Z",
     "shell.execute_reply": "2020-08-16T00:25:18.558636Z"
    },
    "papermill": {
     "duration": 0.055719,
     "end_time": "2020-08-16T00:25:18.559663",
     "exception": false,
     "start_time": "2020-08-16T00:25:18.503944",
     "status": "completed"
    },
    "tags": []
   },
   "outputs": [],
   "source": [
    "y = np.array(df['Label'])\n",
    "y \n",
    "x = df\n",
    "x = x.drop(columns = 'Label')"
   ]
  },
  {
   "cell_type": "code",
   "execution_count": 7,
   "metadata": {
    "execution": {
     "iopub.execute_input": "2020-08-16T00:25:18.614242Z",
     "iopub.status.busy": "2020-08-16T00:25:18.613370Z",
     "iopub.status.idle": "2020-08-16T00:25:18.618082Z",
     "shell.execute_reply": "2020-08-16T00:25:18.617429Z"
    },
    "papermill": {
     "duration": 0.034833,
     "end_time": "2020-08-16T00:25:18.618220",
     "exception": false,
     "start_time": "2020-08-16T00:25:18.583387",
     "status": "completed"
    },
    "tags": []
   },
   "outputs": [
    {
     "data": {
      "text/plain": [
       "(505, 3601)"
      ]
     },
     "execution_count": 7,
     "metadata": {},
     "output_type": "execute_result"
    }
   ],
   "source": [
    "num_images = len(df['Label'])\n",
    "df.shape"
   ]
  },
  {
   "cell_type": "code",
   "execution_count": 8,
   "metadata": {
    "execution": {
     "iopub.execute_input": "2020-08-16T00:25:18.674464Z",
     "iopub.status.busy": "2020-08-16T00:25:18.673123Z",
     "iopub.status.idle": "2020-08-16T00:25:18.695125Z",
     "shell.execute_reply": "2020-08-16T00:25:18.694410Z"
    },
    "papermill": {
     "duration": 0.052652,
     "end_time": "2020-08-16T00:25:18.695262",
     "exception": false,
     "start_time": "2020-08-16T00:25:18.642610",
     "status": "completed"
    },
    "tags": []
   },
   "outputs": [
    {
     "data": {
      "text/plain": [
       "(505, 60, 60)"
      ]
     },
     "execution_count": 8,
     "metadata": {},
     "output_type": "execute_result"
    }
   ],
   "source": [
    "x = np.array(x)\n",
    "x\n",
    "len(x[0])\n",
    "x_shaped_array = x.reshape(505, 60, 60)\n",
    "x_shaped_array = x_shaped_array/255\n",
    "x_shaped_array.shape"
   ]
  },
  {
   "cell_type": "code",
   "execution_count": 9,
   "metadata": {
    "execution": {
     "iopub.execute_input": "2020-08-16T00:25:18.751222Z",
     "iopub.status.busy": "2020-08-16T00:25:18.750399Z",
     "iopub.status.idle": "2020-08-16T00:25:18.764424Z",
     "shell.execute_reply": "2020-08-16T00:25:18.763730Z"
    },
    "papermill": {
     "duration": 0.043563,
     "end_time": "2020-08-16T00:25:18.764579",
     "exception": false,
     "start_time": "2020-08-16T00:25:18.721016",
     "status": "completed"
    },
    "tags": []
   },
   "outputs": [],
   "source": [
    "x = x/255"
   ]
  },
  {
   "cell_type": "code",
   "execution_count": 10,
   "metadata": {
    "execution": {
     "iopub.execute_input": "2020-08-16T00:25:18.820871Z",
     "iopub.status.busy": "2020-08-16T00:25:18.819948Z",
     "iopub.status.idle": "2020-08-16T00:25:18.833018Z",
     "shell.execute_reply": "2020-08-16T00:25:18.832132Z"
    },
    "papermill": {
     "duration": 0.043241,
     "end_time": "2020-08-16T00:25:18.833163",
     "exception": false,
     "start_time": "2020-08-16T00:25:18.789922",
     "status": "completed"
    },
    "tags": []
   },
   "outputs": [
    {
     "data": {
      "text/plain": [
       "(505, 60, 60)"
      ]
     },
     "execution_count": 10,
     "metadata": {},
     "output_type": "execute_result"
    }
   ],
   "source": [
    "image_pixels = x / 255\n",
    "x_shaped_array.shape"
   ]
  },
  {
   "cell_type": "code",
   "execution_count": 11,
   "metadata": {
    "execution": {
     "iopub.execute_input": "2020-08-16T00:25:18.891952Z",
     "iopub.status.busy": "2020-08-16T00:25:18.891158Z",
     "iopub.status.idle": "2020-08-16T00:25:19.257588Z",
     "shell.execute_reply": "2020-08-16T00:25:19.256713Z"
    },
    "papermill": {
     "duration": 0.398383,
     "end_time": "2020-08-16T00:25:19.257726",
     "exception": false,
     "start_time": "2020-08-16T00:25:18.859343",
     "status": "completed"
    },
    "tags": []
   },
   "outputs": [
    {
     "data": {
      "image/png": "[encoded data removed]",
      "text/plain": [
       "<Figure size 432x288 with 2 Axes>"
      ]
     },
     "metadata": {
      "needs_background": "light"
     },
     "output_type": "display_data"
    }
   ],
   "source": [
    "plt.figure()\n",
    "plt.imshow(x_shaped_array[5])\n",
    "plt.colorbar()\n",
    "plt.grid(False)\n",
    "plt.show()"
   ]
  },
  {
   "cell_type": "code",
   "execution_count": 12,
   "metadata": {
    "execution": {
     "iopub.execute_input": "2020-08-16T00:25:19.330046Z",
     "iopub.status.busy": "2020-08-16T00:25:19.325779Z",
     "iopub.status.idle": "2020-08-16T00:25:20.536185Z",
     "shell.execute_reply": "2020-08-16T00:25:20.536826Z"
    },
    "papermill": {
     "duration": 1.252377,
     "end_time": "2020-08-16T00:25:20.537013",
     "exception": false,
     "start_time": "2020-08-16T00:25:19.284636",
     "status": "completed"
    },
    "tags": []
   },
   "outputs": [
    {
     "data": {
      "image/png": "[encoded data removed]",
      "text/plain": [
       "<Figure size 720x720 with 25 Axes>"
      ]
     },
     "metadata": {},
     "output_type": "display_data"
    }
   ],
   "source": [
    "plt.figure(figsize=(10,10))\n",
    "for i in range(25):\n",
    "    plt.subplot(5,5,i+1)\n",
    "    plt.xticks([])\n",
    "    plt.yticks([])\n",
    "    plt.grid(False)\n",
    "    plt.imshow(x_shaped_array[i], cmap=plt.cm.binary)\n",
    "    plt.xlabel(class_names[y[i]])\n",
    "plt.show()"
   ]
  },
  {
   "cell_type": "code",
   "execution_count": 13,
   "metadata": {
    "execution": {
     "iopub.execute_input": "2020-08-16T00:25:20.606629Z",
     "iopub.status.busy": "2020-08-16T00:25:20.605815Z",
     "iopub.status.idle": "2020-08-16T00:25:20.758173Z",
     "shell.execute_reply": "2020-08-16T00:25:20.757296Z"
    },
    "papermill": {
     "duration": 0.189554,
     "end_time": "2020-08-16T00:25:20.758308",
     "exception": false,
     "start_time": "2020-08-16T00:25:20.568754",
     "status": "completed"
    },
    "tags": []
   },
   "outputs": [],
   "source": [
    "model = keras.Sequential([\n",
    "    keras.layers.Flatten(input_shape=(60, 60)),\n",
    "    keras.layers.Dense(150, activation='relu'),\n",
    "    keras.layers.Dense(100),\n",
    " \n",
    "   \n",
    "])\n",
    "\n",
    "\n",
    "\n"
   ]
  },
  {
   "cell_type": "code",
   "execution_count": 14,
   "metadata": {
    "execution": {
     "iopub.execute_input": "2020-08-16T00:25:20.833894Z",
     "iopub.status.busy": "2020-08-16T00:25:20.833065Z",
     "iopub.status.idle": "2020-08-16T00:25:20.840716Z",
     "shell.execute_reply": "2020-08-16T00:25:20.839942Z"
    },
    "papermill": {
     "duration": 0.051726,
     "end_time": "2020-08-16T00:25:20.840874",
     "exception": false,
     "start_time": "2020-08-16T00:25:20.789148",
     "status": "completed"
    },
    "tags": []
   },
   "outputs": [],
   "source": [
    "model.compile(optimizer='adam',\n",
    "              loss=tf.keras.losses.SparseCategoricalCrossentropy(from_logits=True),\n",
    "              metrics=['accuracy'])"
   ]
  },
  {
   "cell_type": "code",
   "execution_count": 15,
   "metadata": {
    "execution": {
     "iopub.execute_input": "2020-08-16T00:25:20.909008Z",
     "iopub.status.busy": "2020-08-16T00:25:20.908183Z",
     "iopub.status.idle": "2020-08-16T00:25:28.698026Z",
     "shell.execute_reply": "2020-08-16T00:25:28.698665Z"
    },
    "papermill": {
     "duration": 7.827539,
     "end_time": "2020-08-16T00:25:28.698869",
     "exception": false,
     "start_time": "2020-08-16T00:25:20.871330",
     "status": "completed"
    },
    "tags": []
   },
   "outputs": [
    {
     "name": "stdout",
     "output_type": "stream",
     "text": [
      "Epoch 1/100\n",
      "16/16 [==============================] - 0s 5ms/step - loss: 4.9068 - accuracy: 0.0376\n",
      "Epoch 2/100\n",
      "16/16 [==============================] - 0s 4ms/step - loss: 3.7491 - accuracy: 0.0990\n",
      "Epoch 3/100\n",
      "16/16 [==============================] - 0s 4ms/step - loss: 3.4075 - accuracy: 0.1564\n",
      "Epoch 4/100\n",
      "16/16 [==============================] - 0s 5ms/step - loss: 3.1692 - accuracy: 0.2139\n",
      "Epoch 5/100\n",
      "16/16 [==============================] - 0s 4ms/step - loss: 3.0359 - accuracy: 0.2257\n",
      "Epoch 6/100\n",
      "16/16 [==============================] - 0s 5ms/step - loss: 2.9767 - accuracy: 0.2257\n",
      "Epoch 7/100\n",
      "16/16 [==============================] - 0s 5ms/step - loss: 2.8874 - accuracy: 0.2535\n",
      "Epoch 8/100\n",
      "16/16 [==============================] - 0s 5ms/step - loss: 2.8385 - accuracy: 0.2634\n",
      "Epoch 9/100\n",
      "16/16 [==============================] - 0s 4ms/step - loss: 2.7313 - accuracy: 0.3168\n",
      "Epoch 10/100\n",
      "16/16 [==============================] - 0s 4ms/step - loss: 2.6691 - accuracy: 0.3188\n",
      "Epoch 11/100\n",
      "16/16 [==============================] - 0s 4ms/step - loss: 2.5998 - accuracy: 0.3168\n",
      "Epoch 12/100\n",
      "16/16 [==============================] - 0s 4ms/step - loss: 2.5588 - accuracy: 0.3149\n",
      "Epoch 13/100\n",
      "16/16 [==============================] - 0s 4ms/step - loss: 2.4865 - accuracy: 0.3426\n",
      "Epoch 14/100\n",
      "16/16 [==============================] - 0s 4ms/step - loss: 2.4048 - accuracy: 0.3921\n",
      "Epoch 15/100\n",
      "16/16 [==============================] - 0s 4ms/step - loss: 2.2967 - accuracy: 0.3960\n",
      "Epoch 16/100\n",
      "16/16 [==============================] - 0s 4ms/step - loss: 2.2462 - accuracy: 0.4574\n",
      "Epoch 17/100\n",
      "16/16 [==============================] - 0s 4ms/step - loss: 2.2302 - accuracy: 0.4218\n",
      "Epoch 18/100\n",
      "16/16 [==============================] - 0s 4ms/step - loss: 2.1750 - accuracy: 0.4337\n",
      "Epoch 19/100\n",
      "16/16 [==============================] - 0s 4ms/step - loss: 2.1421 - accuracy: 0.4554\n",
      "Epoch 20/100\n",
      "16/16 [==============================] - 0s 4ms/step - loss: 2.1813 - accuracy: 0.4673\n",
      "Epoch 21/100\n",
      "16/16 [==============================] - 0s 4ms/step - loss: 2.1567 - accuracy: 0.4376\n",
      "Epoch 22/100\n",
      "16/16 [==============================] - 0s 4ms/step - loss: 2.0435 - accuracy: 0.5010\n",
      "Epoch 23/100\n",
      "16/16 [==============================] - 0s 4ms/step - loss: 2.0076 - accuracy: 0.4673\n",
      "Epoch 24/100\n",
      "16/16 [==============================] - 0s 4ms/step - loss: 1.9595 - accuracy: 0.5050\n",
      "Epoch 25/100\n",
      "16/16 [==============================] - 0s 4ms/step - loss: 1.9463 - accuracy: 0.4931\n",
      "Epoch 26/100\n",
      "16/16 [==============================] - 0s 4ms/step - loss: 1.9118 - accuracy: 0.4891\n",
      "Epoch 27/100\n",
      "16/16 [==============================] - 0s 4ms/step - loss: 1.8756 - accuracy: 0.5347\n",
      "Epoch 28/100\n",
      "16/16 [==============================] - 0s 4ms/step - loss: 1.8065 - accuracy: 0.5703\n",
      "Epoch 29/100\n",
      "16/16 [==============================] - 0s 4ms/step - loss: 1.7830 - accuracy: 0.5723\n",
      "Epoch 30/100\n",
      "16/16 [==============================] - 0s 4ms/step - loss: 1.8489 - accuracy: 0.5188\n",
      "Epoch 31/100\n",
      "16/16 [==============================] - 0s 4ms/step - loss: 1.7542 - accuracy: 0.5525\n",
      "Epoch 32/100\n",
      "16/16 [==============================] - 0s 4ms/step - loss: 1.6664 - accuracy: 0.5861\n",
      "Epoch 33/100\n",
      "16/16 [==============================] - 0s 4ms/step - loss: 1.6718 - accuracy: 0.5980\n",
      "Epoch 34/100\n",
      "16/16 [==============================] - 0s 4ms/step - loss: 1.6600 - accuracy: 0.6238\n",
      "Epoch 35/100\n",
      "16/16 [==============================] - 0s 4ms/step - loss: 1.6588 - accuracy: 0.5624\n",
      "Epoch 36/100\n",
      "16/16 [==============================] - 0s 4ms/step - loss: 1.5957 - accuracy: 0.6119\n",
      "Epoch 37/100\n",
      "16/16 [==============================] - 0s 4ms/step - loss: 1.5154 - accuracy: 0.6416\n",
      "Epoch 38/100\n",
      "16/16 [==============================] - 0s 4ms/step - loss: 1.4812 - accuracy: 0.6495\n",
      "Epoch 39/100\n",
      "16/16 [==============================] - 0s 4ms/step - loss: 1.5146 - accuracy: 0.6356\n",
      "Epoch 40/100\n",
      "16/16 [==============================] - 0s 4ms/step - loss: 1.4604 - accuracy: 0.6792\n",
      "Epoch 41/100\n",
      "16/16 [==============================] - 0s 4ms/step - loss: 1.4288 - accuracy: 0.6772\n",
      "Epoch 42/100\n",
      "16/16 [==============================] - 0s 4ms/step - loss: 1.3936 - accuracy: 0.6851\n",
      "Epoch 43/100\n",
      "16/16 [==============================] - 0s 4ms/step - loss: 1.3924 - accuracy: 0.6871\n",
      "Epoch 44/100\n",
      "16/16 [==============================] - 0s 4ms/step - loss: 1.4048 - accuracy: 0.6614\n",
      "Epoch 45/100\n",
      "16/16 [==============================] - 0s 4ms/step - loss: 1.3538 - accuracy: 0.6911\n",
      "Epoch 46/100\n",
      "16/16 [==============================] - 0s 4ms/step - loss: 1.3266 - accuracy: 0.7089\n",
      "Epoch 47/100\n",
      "16/16 [==============================] - 0s 4ms/step - loss: 1.3005 - accuracy: 0.7010\n",
      "Epoch 48/100\n",
      "16/16 [==============================] - 0s 4ms/step - loss: 1.2785 - accuracy: 0.7050\n",
      "Epoch 49/100\n",
      "16/16 [==============================] - 0s 4ms/step - loss: 1.2283 - accuracy: 0.7208\n",
      "Epoch 50/100\n",
      "16/16 [==============================] - 0s 4ms/step - loss: 1.1913 - accuracy: 0.7505\n",
      "Epoch 51/100\n",
      "16/16 [==============================] - 0s 4ms/step - loss: 1.2021 - accuracy: 0.7406\n",
      "Epoch 52/100\n",
      "16/16 [==============================] - 0s 4ms/step - loss: 1.2155 - accuracy: 0.7168\n",
      "Epoch 53/100\n",
      "16/16 [==============================] - 0s 4ms/step - loss: 1.1508 - accuracy: 0.7505\n",
      "Epoch 54/100\n",
      "16/16 [==============================] - 0s 4ms/step - loss: 1.1091 - accuracy: 0.7644\n",
      "Epoch 55/100\n",
      "16/16 [==============================] - 0s 4ms/step - loss: 1.1294 - accuracy: 0.7366\n",
      "Epoch 56/100\n",
      "16/16 [==============================] - 0s 4ms/step - loss: 1.1151 - accuracy: 0.7426\n",
      "Epoch 57/100\n",
      "16/16 [==============================] - 0s 4ms/step - loss: 1.0995 - accuracy: 0.7881\n",
      "Epoch 58/100\n",
      "16/16 [==============================] - 0s 4ms/step - loss: 1.1137 - accuracy: 0.7465\n",
      "Epoch 59/100\n",
      "16/16 [==============================] - 0s 4ms/step - loss: 1.0630 - accuracy: 0.7624\n",
      "Epoch 60/100\n",
      "16/16 [==============================] - 0s 4ms/step - loss: 1.0486 - accuracy: 0.7980\n",
      "Epoch 61/100\n",
      "16/16 [==============================] - 0s 4ms/step - loss: 1.0016 - accuracy: 0.8099\n",
      "Epoch 62/100\n",
      "16/16 [==============================] - 0s 4ms/step - loss: 1.0028 - accuracy: 0.7960\n",
      "Epoch 63/100\n",
      "16/16 [==============================] - 0s 4ms/step - loss: 0.9798 - accuracy: 0.7723\n",
      "Epoch 64/100\n",
      "16/16 [==============================] - 0s 4ms/step - loss: 0.9209 - accuracy: 0.8119\n",
      "Epoch 65/100\n",
      "16/16 [==============================] - 0s 4ms/step - loss: 0.9449 - accuracy: 0.7980\n",
      "Epoch 66/100\n",
      "16/16 [==============================] - 0s 4ms/step - loss: 0.9269 - accuracy: 0.8119\n",
      "Epoch 67/100\n",
      "16/16 [==============================] - 0s 4ms/step - loss: 0.8832 - accuracy: 0.8356\n",
      "Epoch 68/100\n",
      "16/16 [==============================] - 0s 3ms/step - loss: 0.8783 - accuracy: 0.8356\n",
      "Epoch 69/100\n",
      "16/16 [==============================] - 0s 4ms/step - loss: 0.8568 - accuracy: 0.8277\n",
      "Epoch 70/100\n",
      "16/16 [==============================] - 0s 4ms/step - loss: 0.8574 - accuracy: 0.8238\n",
      "Epoch 71/100\n",
      "16/16 [==============================] - 0s 4ms/step - loss: 0.8769 - accuracy: 0.8139\n",
      "Epoch 72/100\n",
      "16/16 [==============================] - 0s 4ms/step - loss: 0.8439 - accuracy: 0.8257\n",
      "Epoch 73/100\n",
      "16/16 [==============================] - 0s 4ms/step - loss: 0.8930 - accuracy: 0.7960\n",
      "Epoch 74/100\n",
      "16/16 [==============================] - 0s 4ms/step - loss: 0.7914 - accuracy: 0.8436\n",
      "Epoch 75/100\n",
      "16/16 [==============================] - 0s 4ms/step - loss: 0.8038 - accuracy: 0.8416\n",
      "Epoch 76/100\n",
      "16/16 [==============================] - 0s 4ms/step - loss: 0.7618 - accuracy: 0.8535\n",
      "Epoch 77/100\n",
      "16/16 [==============================] - 0s 4ms/step - loss: 0.7978 - accuracy: 0.8376\n",
      "Epoch 78/100\n",
      "16/16 [==============================] - 0s 4ms/step - loss: 0.7769 - accuracy: 0.8436\n",
      "Epoch 79/100\n",
      "16/16 [==============================] - 0s 4ms/step - loss: 0.7564 - accuracy: 0.8436\n",
      "Epoch 80/100\n",
      "16/16 [==============================] - 0s 4ms/step - loss: 0.7490 - accuracy: 0.8376\n",
      "Epoch 81/100\n",
      "16/16 [==============================] - 0s 4ms/step - loss: 0.7769 - accuracy: 0.8238\n",
      "Epoch 82/100\n",
      "16/16 [==============================] - 0s 4ms/step - loss: 0.6950 - accuracy: 0.8891\n",
      "Epoch 83/100\n",
      "16/16 [==============================] - 0s 4ms/step - loss: 0.6365 - accuracy: 0.9109\n",
      "Epoch 84/100\n",
      "16/16 [==============================] - 0s 4ms/step - loss: 0.6416 - accuracy: 0.9149\n",
      "Epoch 85/100\n",
      "16/16 [==============================] - 0s 3ms/step - loss: 0.6260 - accuracy: 0.9050\n",
      "Epoch 86/100\n",
      "16/16 [==============================] - 0s 4ms/step - loss: 0.6470 - accuracy: 0.8772\n",
      "Epoch 87/100\n",
      "16/16 [==============================] - 0s 4ms/step - loss: 0.6721 - accuracy: 0.8634\n",
      "Epoch 88/100\n",
      "16/16 [==============================] - 0s 4ms/step - loss: 0.6372 - accuracy: 0.8812\n",
      "Epoch 89/100\n",
      "16/16 [==============================] - 0s 4ms/step - loss: 0.6494 - accuracy: 0.8713\n",
      "Epoch 90/100\n",
      "16/16 [==============================] - 0s 4ms/step - loss: 0.6168 - accuracy: 0.8911\n",
      "Epoch 91/100\n",
      "16/16 [==============================] - 0s 4ms/step - loss: 0.5876 - accuracy: 0.9030\n",
      "Epoch 92/100\n",
      "16/16 [==============================] - 0s 4ms/step - loss: 0.5544 - accuracy: 0.9307\n",
      "Epoch 93/100\n",
      "16/16 [==============================] - 0s 4ms/step - loss: 0.5518 - accuracy: 0.9168\n",
      "Epoch 94/100\n",
      "16/16 [==============================] - 0s 4ms/step - loss: 0.5768 - accuracy: 0.9010\n",
      "Epoch 95/100\n",
      "16/16 [==============================] - 0s 4ms/step - loss: 0.5479 - accuracy: 0.9248\n",
      "Epoch 96/100\n",
      "16/16 [==============================] - 0s 4ms/step - loss: 0.5594 - accuracy: 0.8950\n",
      "Epoch 97/100\n",
      "16/16 [==============================] - 0s 4ms/step - loss: 0.5475 - accuracy: 0.9149\n",
      "Epoch 98/100\n",
      "16/16 [==============================] - 0s 4ms/step - loss: 0.5666 - accuracy: 0.8970\n",
      "Epoch 99/100\n",
      "16/16 [==============================] - 0s 4ms/step - loss: 0.5209 - accuracy: 0.9248\n",
      "Epoch 100/100\n",
      "16/16 [==============================] - 0s 4ms/step - loss: 0.4794 - accuracy: 0.9366\n"
     ]
    },
    {
     "data": {
      "text/plain": [
       "<tensorflow.python.keras.callbacks.History at 0x7f119e9164d0>"
      ]
     },
     "execution_count": 15,
     "metadata": {},
     "output_type": "execute_result"
    }
   ],
   "source": [
    "model.fit(x_shaped_array, y, epochs=100)"
   ]
  },
  {
   "cell_type": "code",
   "execution_count": 16,
   "metadata": {
    "execution": {
     "iopub.execute_input": "2020-08-16T00:25:29.066134Z",
     "iopub.status.busy": "2020-08-16T00:25:29.062787Z",
     "iopub.status.idle": "2020-08-16T00:25:29.087989Z",
     "shell.execute_reply": "2020-08-16T00:25:29.087322Z"
    },
    "papermill": {
     "duration": 0.20843,
     "end_time": "2020-08-16T00:25:29.088136",
     "exception": false,
     "start_time": "2020-08-16T00:25:28.879706",
     "status": "completed"
    },
    "tags": []
   },
   "outputs": [],
   "source": [
    "probability_model = tf.keras.Sequential([model, \n",
    "                                         tf.keras.layers.Softmax()])"
   ]
  },
  {
   "cell_type": "code",
   "execution_count": 17,
   "metadata": {
    "execution": {
     "iopub.execute_input": "2020-08-16T00:25:29.436196Z",
     "iopub.status.busy": "2020-08-16T00:25:29.435081Z",
     "iopub.status.idle": "2020-08-16T00:25:29.662790Z",
     "shell.execute_reply": "2020-08-16T00:25:29.661940Z"
    },
    "papermill": {
     "duration": 0.40352,
     "end_time": "2020-08-16T00:25:29.662931",
     "exception": false,
     "start_time": "2020-08-16T00:25:29.259411",
     "status": "completed"
    },
    "tags": []
   },
   "outputs": [],
   "source": [
    "predictions = probability_model.predict(([x_shaped_array]))"
   ]
  },
  {
   "cell_type": "code",
   "execution_count": 18,
   "metadata": {
    "execution": {
     "iopub.execute_input": "2020-08-16T00:25:30.011877Z",
     "iopub.status.busy": "2020-08-16T00:25:30.010663Z",
     "iopub.status.idle": "2020-08-16T00:25:30.016474Z",
     "shell.execute_reply": "2020-08-16T00:25:30.015669Z"
    },
    "papermill": {
     "duration": 0.182959,
     "end_time": "2020-08-16T00:25:30.016623",
     "exception": false,
     "start_time": "2020-08-16T00:25:29.833664",
     "status": "completed"
    },
    "tags": []
   },
   "outputs": [
    {
     "data": {
      "text/plain": [
       "array([[9.8420668e-01, 2.0957326e-05, 4.0877043e-05, ..., 5.0307458e-10,\n",
       "        1.3291971e-09, 6.5418884e-09],\n",
       "       [8.6251795e-01, 9.4970979e-04, 1.8163106e-03, ..., 1.7740274e-07,\n",
       "        5.9988020e-07, 2.1030253e-06],\n",
       "       [8.5523742e-01, 1.4924519e-05, 5.0991517e-03, ..., 1.2958332e-10,\n",
       "        2.6243036e-10, 1.0951130e-09],\n",
       "       ...,\n",
       "       [1.6844591e-05, 2.1120287e-04, 6.4622535e-04, ..., 6.1724346e-09,\n",
       "        6.8161870e-07, 1.6640615e-07],\n",
       "       [4.9749279e-04, 1.1781663e-04, 5.0163188e-04, ..., 1.0058651e-07,\n",
       "        2.9093073e-07, 1.0182545e-06],\n",
       "       [7.2946551e-04, 1.7281571e-04, 6.8318786e-04, ..., 1.2666329e-07,\n",
       "        3.7802849e-07, 1.3576456e-06]], dtype=float32)"
      ]
     },
     "execution_count": 18,
     "metadata": {},
     "output_type": "execute_result"
    }
   ],
   "source": [
    "predictions"
   ]
  },
  {
   "cell_type": "code",
   "execution_count": 19,
   "metadata": {
    "execution": {
     "iopub.execute_input": "2020-08-16T00:25:30.367155Z",
     "iopub.status.busy": "2020-08-16T00:25:30.365931Z",
     "iopub.status.idle": "2020-08-16T00:25:30.371127Z",
     "shell.execute_reply": "2020-08-16T00:25:30.370363Z"
    },
    "papermill": {
     "duration": 0.182856,
     "end_time": "2020-08-16T00:25:30.371262",
     "exception": false,
     "start_time": "2020-08-16T00:25:30.188406",
     "status": "completed"
    },
    "tags": []
   },
   "outputs": [
    {
     "data": {
      "text/plain": [
       "'chi'"
      ]
     },
     "execution_count": 19,
     "metadata": {},
     "output_type": "execute_result"
    }
   ],
   "source": [
    "class_names[np.argmax(predictions[20])]"
   ]
  },
  {
   "cell_type": "code",
   "execution_count": 20,
   "metadata": {
    "execution": {
     "iopub.execute_input": "2020-08-16T00:25:30.733064Z",
     "iopub.status.busy": "2020-08-16T00:25:30.732219Z",
     "iopub.status.idle": "2020-08-16T00:25:30.736221Z",
     "shell.execute_reply": "2020-08-16T00:25:30.735519Z"
    },
    "papermill": {
     "duration": 0.190858,
     "end_time": "2020-08-16T00:25:30.736382",
     "exception": false,
     "start_time": "2020-08-16T00:25:30.545524",
     "status": "completed"
    },
    "tags": []
   },
   "outputs": [],
   "source": [
    "def plot_image(i, predictions_array, true_label, img):\n",
    "  predictions_array, true_label, img = predictions_array, true_label[i], img[i]\n",
    "  plt.grid(False)\n",
    "  plt.xticks([])\n",
    "  plt.yticks([])\n",
    "\n",
    "  plt.imshow(img, cmap=plt.cm.binary)\n",
    "\n",
    "  predicted_label = np.argmax(predictions_array)\n",
    "  if predicted_label == true_label:\n",
    "    color = 'blue'\n",
    "  else:\n",
    "    color = 'red'\n",
    "\n",
    "  plt.xlabel(\"{} {:2.0f}% ({})\".format(class_names[predicted_label],\n",
    "                                100*np.max(predictions_array),\n",
    "                                class_names[true_label]),\n",
    "                                color=color)\n",
    "\n",
    "def plot_value_array(i, predictions_array, true_label):\n",
    "  predictions_array, true_label = predictions_array, true_label[i]\n",
    "  plt.grid(False)\n",
    "  plt.xticks(range(10))\n",
    "  plt.yticks([])\n",
    "  thisplot = plt.bar(range(10), predictions_array, color=\"#777777\")\n",
    "  plt.ylim([0, 1])\n",
    "  predicted_label = np.argmax(predictions_array)\n",
    "\n",
    "  thisplot[predicted_label].set_color('red')\n",
    "  thisplot[true_label].set_color('blue')"
   ]
  },
  {
   "cell_type": "code",
   "execution_count": 21,
   "metadata": {
    "execution": {
     "iopub.execute_input": "2020-08-16T00:25:31.099353Z",
     "iopub.status.busy": "2020-08-16T00:25:31.092711Z",
     "iopub.status.idle": "2020-08-16T00:25:31.308975Z",
     "shell.execute_reply": "2020-08-16T00:25:31.308283Z"
    },
    "papermill": {
     "duration": 0.397907,
     "end_time": "2020-08-16T00:25:31.309131",
     "exception": false,
     "start_time": "2020-08-16T00:25:30.911224",
     "status": "completed"
    },
    "tags": []
   },
   "outputs": [
    {
     "data": {
      "image/png": "[encoded data removed]",
      "text/plain": [
       "<Figure size 432x216 with 2 Axes>"
      ]
     },
     "metadata": {
      "needs_background": "light"
     },
     "output_type": "display_data"
    }
   ],
   "source": [
    "i = 290\n",
    "plt.figure(figsize=(6,3))\n",
    "plt.subplot(1,2,1)\n",
    "plot_image(i, predictions[i], y, x_shaped_array)\n",
    "plt.subplot(1,2,2)\n",
    "# plot_value_array(i, predictions[i],  y)\n",
    "plt.show()"
   ]
  },
  {
   "cell_type": "code",
   "execution_count": 22,
   "metadata": {
    "execution": {
     "iopub.execute_input": "2020-08-16T00:25:31.661417Z",
     "iopub.status.busy": "2020-08-16T00:25:31.660546Z",
     "iopub.status.idle": "2020-08-16T00:25:31.714667Z",
     "shell.execute_reply": "2020-08-16T00:25:31.713330Z"
    },
    "papermill": {
     "duration": 0.233708,
     "end_time": "2020-08-16T00:25:31.714901",
     "exception": false,
     "start_time": "2020-08-16T00:25:31.481193",
     "status": "completed"
    },
    "tags": []
   },
   "outputs": [
    {
     "name": "stdout",
     "output_type": "stream",
     "text": [
      "<class 'PIL.Image.Image'>\n",
      "float32\n",
      "(60, 60, 1)\n"
     ]
    }
   ],
   "source": [
    "#load in picture and make it usable\n",
    "\n",
    "#Load image here\n",
    "\n",
    "# load the image\n",
    "#Change Filepath Here\n",
    "img = load_img('../input/sigmas/sigma.png', target_size = (60,60) ,color_mode = 'grayscale')\n",
    "print(type(img))\n",
    "# convert to numpy array\n",
    "img_array = img_to_array(img)\n",
    "\n",
    "\n",
    "\n",
    "print(img_array.dtype)\n",
    "print(img_array.shape)"
   ]
  },
  {
   "cell_type": "code",
   "execution_count": 23,
   "metadata": {
    "execution": {
     "iopub.execute_input": "2020-08-16T00:25:32.073059Z",
     "iopub.status.busy": "2020-08-16T00:25:32.072081Z",
     "iopub.status.idle": "2020-08-16T00:25:32.077066Z",
     "shell.execute_reply": "2020-08-16T00:25:32.077608Z"
    },
    "papermill": {
     "duration": 0.188197,
     "end_time": "2020-08-16T00:25:32.077796",
     "exception": false,
     "start_time": "2020-08-16T00:25:31.889599",
     "status": "completed"
    },
    "tags": []
   },
   "outputs": [
    {
     "data": {
      "text/plain": [
       "(1, 60, 60)"
      ]
     },
     "execution_count": 23,
     "metadata": {},
     "output_type": "execute_result"
    }
   ],
   "source": [
    "img = (np.expand_dims(img,0))\n",
    "img.shape"
   ]
  },
  {
   "cell_type": "code",
   "execution_count": 24,
   "metadata": {
    "execution": {
     "iopub.execute_input": "2020-08-16T00:25:32.437363Z",
     "iopub.status.busy": "2020-08-16T00:25:32.436532Z",
     "iopub.status.idle": "2020-08-16T00:25:32.503240Z",
     "shell.execute_reply": "2020-08-16T00:25:32.503882Z"
    },
    "papermill": {
     "duration": 0.248614,
     "end_time": "2020-08-16T00:25:32.504077",
     "exception": false,
     "start_time": "2020-08-16T00:25:32.255463",
     "status": "completed"
    },
    "tags": []
   },
   "outputs": [],
   "source": [
    "predictions = probability_model.predict((img))"
   ]
  },
  {
   "cell_type": "code",
   "execution_count": 25,
   "metadata": {
    "execution": {
     "iopub.execute_input": "2020-08-16T00:25:32.858240Z",
     "iopub.status.busy": "2020-08-16T00:25:32.856992Z",
     "iopub.status.idle": "2020-08-16T00:25:32.861067Z",
     "shell.execute_reply": "2020-08-16T00:25:32.861878Z"
    },
    "papermill": {
     "duration": 0.184642,
     "end_time": "2020-08-16T00:25:32.862074",
     "exception": false,
     "start_time": "2020-08-16T00:25:32.677432",
     "status": "completed"
    },
    "tags": []
   },
   "outputs": [
    {
     "name": "stdout",
     "output_type": "stream",
     "text": [
      "\\Upsilon\n"
     ]
    }
   ],
   "source": [
    "results = class_names[np.argmax(predictions[0])]\n",
    "print(\"\\\\\" + results)"
   ]
  },
  {
   "cell_type": "code",
   "execution_count": null,
   "metadata": {
    "papermill": {
     "duration": 0.191427,
     "end_time": "2020-08-16T00:25:33.229992",
     "exception": false,
     "start_time": "2020-08-16T00:25:33.038565",
     "status": "completed"
    },
    "tags": []
   },
   "outputs": [],
   "source": []
  },
  {
   "cell_type": "code",
   "execution_count": 26,
   "metadata": {
    "execution": {
     "iopub.execute_input": "2020-08-16T00:25:33.614231Z",
     "iopub.status.busy": "2020-08-16T00:25:33.612953Z",
     "iopub.status.idle": "2020-08-16T00:25:33.626690Z",
     "shell.execute_reply": "2020-08-16T00:25:33.625975Z"
    },
    "papermill": {
     "duration": 0.199274,
     "end_time": "2020-08-16T00:25:33.626868",
     "exception": false,
     "start_time": "2020-08-16T00:25:33.427594",
     "status": "completed"
    },
    "tags": []
   },
   "outputs": [],
   "source": [
    "model.save_weights('my_model_weights.h5')"
   ]
  }
 ],
 "metadata": {
  "kernelspec": {
   "display_name": "Python 3",
   "language": "python",
   "name": "python3"
  },
  "language_info": {
   "codemirror_mode": {
    "name": "ipython",
    "version": 3
   },
   "file_extension": ".py",
   "mimetype": "text/x-python",
   "name": "python",
   "nbconvert_exporter": "python",
   "pygments_lexer": "ipython3",
   "version": "3.7.6"
  },
  "papermill": {
   "duration": 30.641124,
   "end_time": "2020-08-16T00:25:33.910590",
   "environment_variables": {},
   "exception": null,
   "input_path": "__notebook__.ipynb",
   "output_path": "__notebook__.ipynb",
   "parameters": {},
   "start_time": "2020-08-16T00:25:03.269466",
   "version": "2.1.0"
  }
 },
 "nbformat": 4,
 "nbformat_minor": 4
}
